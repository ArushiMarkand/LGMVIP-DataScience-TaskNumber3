{
 "cells": [
  {
   "cell_type": "code",
   "execution_count": 1,
   "id": "cb200562",
   "metadata": {},
   "outputs": [],
   "source": [
    "import cv2"
   ]
  },
  {
   "cell_type": "code",
   "execution_count": 2,
   "id": "f4db6857",
   "metadata": {},
   "outputs": [],
   "source": [
    "image_path = r\"C:\\Users\\arush\\OneDrive\\Desktop\\OIP.jpeg\"\n",
    "image = cv2.imread(image_path)"
   ]
  },
  {
   "cell_type": "code",
   "execution_count": 3,
   "id": "aac374ec",
   "metadata": {},
   "outputs": [],
   "source": [
    "# Convert the image to grayscale\n",
    "gray_image = cv2.cvtColor(image, cv2.COLOR_BGR2GRAY)"
   ]
  },
  {
   "cell_type": "code",
   "execution_count": 4,
   "id": "4b8fb275",
   "metadata": {},
   "outputs": [],
   "source": [
    "# Invert the grayscale image\n",
    "inverted_gray_image = 255 - gray_image"
   ]
  },
  {
   "cell_type": "code",
   "execution_count": 5,
   "id": "fd1df174",
   "metadata": {},
   "outputs": [],
   "source": [
    "# Blur the inverted image using Gaussian blur\n",
    "blurred_image = cv2.GaussianBlur(inverted_gray_image, (21, 21), 0)"
   ]
  },
  {
   "cell_type": "code",
   "execution_count": 6,
   "id": "47b7a252",
   "metadata": {},
   "outputs": [],
   "source": [
    "# Invert the blurred image\n",
    "inverted_blurred_image = 255 - blurred_image"
   ]
  },
  {
   "cell_type": "code",
   "execution_count": 7,
   "id": "3179e4a3",
   "metadata": {},
   "outputs": [],
   "source": [
    "# Create the pencil sketch image by combining the inverted blurred image with the original grayscale image using the Dodge blend mode\n",
    "pencil_sketch_image = cv2.divide(gray_image, inverted_blurred_image, scale=256.0)"
   ]
  },
  {
   "cell_type": "code",
   "execution_count": 8,
   "id": "e44654ca",
   "metadata": {},
   "outputs": [],
   "source": [
    "# Show the original image and the pencil sketch image\n",
    "cv2.imshow(\"Original Image\", image)\n",
    "cv2.imshow(\"Pencil Sketch\", pencil_sketch_image)\n",
    "cv2.waitKey(0)\n",
    "cv2.destroyAllWindows()"
   ]
  },
  {
   "cell_type": "code",
   "execution_count": null,
   "id": "2187e0b7",
   "metadata": {},
   "outputs": [],
   "source": []
  }
 ],
 "metadata": {
  "kernelspec": {
   "display_name": "Python 3 (ipykernel)",
   "language": "python",
   "name": "python3"
  },
  "language_info": {
   "codemirror_mode": {
    "name": "ipython",
    "version": 3
   },
   "file_extension": ".py",
   "mimetype": "text/x-python",
   "name": "python",
   "nbconvert_exporter": "python",
   "pygments_lexer": "ipython3",
   "version": "3.10.9"
  }
 },
 "nbformat": 4,
 "nbformat_minor": 5
}
